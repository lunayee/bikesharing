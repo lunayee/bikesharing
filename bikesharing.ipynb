{
  "nbformat": 4,
  "nbformat_minor": 0,
  "metadata": {
    "colab": {
      "name": "bikesharing.ipynb",
      "provenance": [],
      "authorship_tag": "ABX9TyPGK0qrrDmIVEPHfzjM8SX4",
      "include_colab_link": true
    },
    "kernelspec": {
      "name": "python3",
      "display_name": "Python 3"
    }
  },
  "cells": [
    {
      "cell_type": "markdown",
      "metadata": {
        "id": "view-in-github",
        "colab_type": "text"
      },
      "source": [
        "<a href=\"https://colab.research.google.com/github/lunayee/bikesharing/blob/main/bikesharing.ipynb\" target=\"_parent\"><img src=\"https://colab.research.google.com/assets/colab-badge.svg\" alt=\"Open In Colab\"/></a>"
      ]
    },
    {
      "cell_type": "markdown",
      "metadata": {
        "id": "D2RhIX05gLn2"
      },
      "source": [
        "# 載入套件"
      ]
    },
    {
      "cell_type": "code",
      "metadata": {
        "id": "XQPflWOlgRLR"
      },
      "source": [
        "import pandas as pd\n",
        "import numpy as np\n",
        "import datetime\n",
        "import matplotlib.pyplot as plt\n",
        "import seaborn as sns\n",
        "from sklearn.ensemble import RandomForestRegressor\n",
        "%matplotlib inline"
      ],
      "execution_count": 2,
      "outputs": []
    },
    {
      "cell_type": "markdown",
      "metadata": {
        "id": "-OzUAG4jgYVe"
      },
      "source": [
        "# 上傳資料"
      ]
    },
    {
      "cell_type": "code",
      "metadata": {
        "colab": {
          "base_uri": "https://localhost:8080/",
          "height": 505
        },
        "id": "OII1StpWgXth",
        "outputId": "d19e3bc5-212b-4de8-d6f9-4a046f8a580b"
      },
      "source": [
        "train = pd.read_csv('D:/Python/bikesharing/train.csv')\n",
        "test = pd.read_csv('D:/Python/bikesharing/test.csv')\n",
        "submit = pd.read_csv('D:/Python/bikesharing/sampleSubmission.csv')"
      ],
      "execution_count": 3,
      "outputs": [
        {
          "output_type": "error",
          "ename": "FileNotFoundError",
          "evalue": "ignored",
          "traceback": [
            "\u001b[0;31m---------------------------------------------------------------------------\u001b[0m",
            "\u001b[0;31mFileNotFoundError\u001b[0m                         Traceback (most recent call last)",
            "\u001b[0;32m<ipython-input-3-fd222a44ae60>\u001b[0m in \u001b[0;36m<module>\u001b[0;34m()\u001b[0m\n\u001b[0;32m----> 1\u001b[0;31m \u001b[0mtrain\u001b[0m \u001b[0;34m=\u001b[0m \u001b[0mpd\u001b[0m\u001b[0;34m.\u001b[0m\u001b[0mread_csv\u001b[0m\u001b[0;34m(\u001b[0m\u001b[0;34m'D:/Python/bikesharing/train.csv'\u001b[0m\u001b[0;34m)\u001b[0m\u001b[0;34m\u001b[0m\u001b[0;34m\u001b[0m\u001b[0m\n\u001b[0m\u001b[1;32m      2\u001b[0m \u001b[0mtest\u001b[0m \u001b[0;34m=\u001b[0m \u001b[0mpd\u001b[0m\u001b[0;34m.\u001b[0m\u001b[0mread_csv\u001b[0m\u001b[0;34m(\u001b[0m\u001b[0;34m'D:/Python/bikesharing/test.csv'\u001b[0m\u001b[0;34m)\u001b[0m\u001b[0;34m\u001b[0m\u001b[0;34m\u001b[0m\u001b[0m\n\u001b[1;32m      3\u001b[0m \u001b[0msubmit\u001b[0m \u001b[0;34m=\u001b[0m \u001b[0mpd\u001b[0m\u001b[0;34m.\u001b[0m\u001b[0mread_csv\u001b[0m\u001b[0;34m(\u001b[0m\u001b[0;34m'D:/Python/bikesharing/sampleSubmission.csv'\u001b[0m\u001b[0;34m)\u001b[0m\u001b[0;34m\u001b[0m\u001b[0;34m\u001b[0m\u001b[0m\n",
            "\u001b[0;32m/usr/local/lib/python3.6/dist-packages/pandas/io/parsers.py\u001b[0m in \u001b[0;36mread_csv\u001b[0;34m(filepath_or_buffer, sep, delimiter, header, names, index_col, usecols, squeeze, prefix, mangle_dupe_cols, dtype, engine, converters, true_values, false_values, skipinitialspace, skiprows, skipfooter, nrows, na_values, keep_default_na, na_filter, verbose, skip_blank_lines, parse_dates, infer_datetime_format, keep_date_col, date_parser, dayfirst, cache_dates, iterator, chunksize, compression, thousands, decimal, lineterminator, quotechar, quoting, doublequote, escapechar, comment, encoding, dialect, error_bad_lines, warn_bad_lines, delim_whitespace, low_memory, memory_map, float_precision)\u001b[0m\n\u001b[1;32m    686\u001b[0m     )\n\u001b[1;32m    687\u001b[0m \u001b[0;34m\u001b[0m\u001b[0m\n\u001b[0;32m--> 688\u001b[0;31m     \u001b[0;32mreturn\u001b[0m \u001b[0m_read\u001b[0m\u001b[0;34m(\u001b[0m\u001b[0mfilepath_or_buffer\u001b[0m\u001b[0;34m,\u001b[0m \u001b[0mkwds\u001b[0m\u001b[0;34m)\u001b[0m\u001b[0;34m\u001b[0m\u001b[0;34m\u001b[0m\u001b[0m\n\u001b[0m\u001b[1;32m    689\u001b[0m \u001b[0;34m\u001b[0m\u001b[0m\n\u001b[1;32m    690\u001b[0m \u001b[0;34m\u001b[0m\u001b[0m\n",
            "\u001b[0;32m/usr/local/lib/python3.6/dist-packages/pandas/io/parsers.py\u001b[0m in \u001b[0;36m_read\u001b[0;34m(filepath_or_buffer, kwds)\u001b[0m\n\u001b[1;32m    452\u001b[0m \u001b[0;34m\u001b[0m\u001b[0m\n\u001b[1;32m    453\u001b[0m     \u001b[0;31m# Create the parser.\u001b[0m\u001b[0;34m\u001b[0m\u001b[0;34m\u001b[0m\u001b[0;34m\u001b[0m\u001b[0m\n\u001b[0;32m--> 454\u001b[0;31m     \u001b[0mparser\u001b[0m \u001b[0;34m=\u001b[0m \u001b[0mTextFileReader\u001b[0m\u001b[0;34m(\u001b[0m\u001b[0mfp_or_buf\u001b[0m\u001b[0;34m,\u001b[0m \u001b[0;34m**\u001b[0m\u001b[0mkwds\u001b[0m\u001b[0;34m)\u001b[0m\u001b[0;34m\u001b[0m\u001b[0;34m\u001b[0m\u001b[0m\n\u001b[0m\u001b[1;32m    455\u001b[0m \u001b[0;34m\u001b[0m\u001b[0m\n\u001b[1;32m    456\u001b[0m     \u001b[0;32mif\u001b[0m \u001b[0mchunksize\u001b[0m \u001b[0;32mor\u001b[0m \u001b[0miterator\u001b[0m\u001b[0;34m:\u001b[0m\u001b[0;34m\u001b[0m\u001b[0;34m\u001b[0m\u001b[0m\n",
            "\u001b[0;32m/usr/local/lib/python3.6/dist-packages/pandas/io/parsers.py\u001b[0m in \u001b[0;36m__init__\u001b[0;34m(self, f, engine, **kwds)\u001b[0m\n\u001b[1;32m    946\u001b[0m             \u001b[0mself\u001b[0m\u001b[0;34m.\u001b[0m\u001b[0moptions\u001b[0m\u001b[0;34m[\u001b[0m\u001b[0;34m\"has_index_names\"\u001b[0m\u001b[0;34m]\u001b[0m \u001b[0;34m=\u001b[0m \u001b[0mkwds\u001b[0m\u001b[0;34m[\u001b[0m\u001b[0;34m\"has_index_names\"\u001b[0m\u001b[0;34m]\u001b[0m\u001b[0;34m\u001b[0m\u001b[0;34m\u001b[0m\u001b[0m\n\u001b[1;32m    947\u001b[0m \u001b[0;34m\u001b[0m\u001b[0m\n\u001b[0;32m--> 948\u001b[0;31m         \u001b[0mself\u001b[0m\u001b[0;34m.\u001b[0m\u001b[0m_make_engine\u001b[0m\u001b[0;34m(\u001b[0m\u001b[0mself\u001b[0m\u001b[0;34m.\u001b[0m\u001b[0mengine\u001b[0m\u001b[0;34m)\u001b[0m\u001b[0;34m\u001b[0m\u001b[0;34m\u001b[0m\u001b[0m\n\u001b[0m\u001b[1;32m    949\u001b[0m \u001b[0;34m\u001b[0m\u001b[0m\n\u001b[1;32m    950\u001b[0m     \u001b[0;32mdef\u001b[0m \u001b[0mclose\u001b[0m\u001b[0;34m(\u001b[0m\u001b[0mself\u001b[0m\u001b[0;34m)\u001b[0m\u001b[0;34m:\u001b[0m\u001b[0;34m\u001b[0m\u001b[0;34m\u001b[0m\u001b[0m\n",
            "\u001b[0;32m/usr/local/lib/python3.6/dist-packages/pandas/io/parsers.py\u001b[0m in \u001b[0;36m_make_engine\u001b[0;34m(self, engine)\u001b[0m\n\u001b[1;32m   1178\u001b[0m     \u001b[0;32mdef\u001b[0m \u001b[0m_make_engine\u001b[0m\u001b[0;34m(\u001b[0m\u001b[0mself\u001b[0m\u001b[0;34m,\u001b[0m \u001b[0mengine\u001b[0m\u001b[0;34m=\u001b[0m\u001b[0;34m\"c\"\u001b[0m\u001b[0;34m)\u001b[0m\u001b[0;34m:\u001b[0m\u001b[0;34m\u001b[0m\u001b[0;34m\u001b[0m\u001b[0m\n\u001b[1;32m   1179\u001b[0m         \u001b[0;32mif\u001b[0m \u001b[0mengine\u001b[0m \u001b[0;34m==\u001b[0m \u001b[0;34m\"c\"\u001b[0m\u001b[0;34m:\u001b[0m\u001b[0;34m\u001b[0m\u001b[0;34m\u001b[0m\u001b[0m\n\u001b[0;32m-> 1180\u001b[0;31m             \u001b[0mself\u001b[0m\u001b[0;34m.\u001b[0m\u001b[0m_engine\u001b[0m \u001b[0;34m=\u001b[0m \u001b[0mCParserWrapper\u001b[0m\u001b[0;34m(\u001b[0m\u001b[0mself\u001b[0m\u001b[0;34m.\u001b[0m\u001b[0mf\u001b[0m\u001b[0;34m,\u001b[0m \u001b[0;34m**\u001b[0m\u001b[0mself\u001b[0m\u001b[0;34m.\u001b[0m\u001b[0moptions\u001b[0m\u001b[0;34m)\u001b[0m\u001b[0;34m\u001b[0m\u001b[0;34m\u001b[0m\u001b[0m\n\u001b[0m\u001b[1;32m   1181\u001b[0m         \u001b[0;32melse\u001b[0m\u001b[0;34m:\u001b[0m\u001b[0;34m\u001b[0m\u001b[0;34m\u001b[0m\u001b[0m\n\u001b[1;32m   1182\u001b[0m             \u001b[0;32mif\u001b[0m \u001b[0mengine\u001b[0m \u001b[0;34m==\u001b[0m \u001b[0;34m\"python\"\u001b[0m\u001b[0;34m:\u001b[0m\u001b[0;34m\u001b[0m\u001b[0;34m\u001b[0m\u001b[0m\n",
            "\u001b[0;32m/usr/local/lib/python3.6/dist-packages/pandas/io/parsers.py\u001b[0m in \u001b[0;36m__init__\u001b[0;34m(self, src, **kwds)\u001b[0m\n\u001b[1;32m   2008\u001b[0m         \u001b[0mkwds\u001b[0m\u001b[0;34m[\u001b[0m\u001b[0;34m\"usecols\"\u001b[0m\u001b[0;34m]\u001b[0m \u001b[0;34m=\u001b[0m \u001b[0mself\u001b[0m\u001b[0;34m.\u001b[0m\u001b[0musecols\u001b[0m\u001b[0;34m\u001b[0m\u001b[0;34m\u001b[0m\u001b[0m\n\u001b[1;32m   2009\u001b[0m \u001b[0;34m\u001b[0m\u001b[0m\n\u001b[0;32m-> 2010\u001b[0;31m         \u001b[0mself\u001b[0m\u001b[0;34m.\u001b[0m\u001b[0m_reader\u001b[0m \u001b[0;34m=\u001b[0m \u001b[0mparsers\u001b[0m\u001b[0;34m.\u001b[0m\u001b[0mTextReader\u001b[0m\u001b[0;34m(\u001b[0m\u001b[0msrc\u001b[0m\u001b[0;34m,\u001b[0m \u001b[0;34m**\u001b[0m\u001b[0mkwds\u001b[0m\u001b[0;34m)\u001b[0m\u001b[0;34m\u001b[0m\u001b[0;34m\u001b[0m\u001b[0m\n\u001b[0m\u001b[1;32m   2011\u001b[0m         \u001b[0mself\u001b[0m\u001b[0;34m.\u001b[0m\u001b[0munnamed_cols\u001b[0m \u001b[0;34m=\u001b[0m \u001b[0mself\u001b[0m\u001b[0;34m.\u001b[0m\u001b[0m_reader\u001b[0m\u001b[0;34m.\u001b[0m\u001b[0munnamed_cols\u001b[0m\u001b[0;34m\u001b[0m\u001b[0;34m\u001b[0m\u001b[0m\n\u001b[1;32m   2012\u001b[0m \u001b[0;34m\u001b[0m\u001b[0m\n",
            "\u001b[0;32mpandas/_libs/parsers.pyx\u001b[0m in \u001b[0;36mpandas._libs.parsers.TextReader.__cinit__\u001b[0;34m()\u001b[0m\n",
            "\u001b[0;32mpandas/_libs/parsers.pyx\u001b[0m in \u001b[0;36mpandas._libs.parsers.TextReader._setup_parser_source\u001b[0;34m()\u001b[0m\n",
            "\u001b[0;31mFileNotFoundError\u001b[0m: [Errno 2] No such file or directory: 'D:/Python/bikesharing/train.csv'"
          ]
        }
      ]
    },
    {
      "cell_type": "markdown",
      "metadata": {
        "id": "Nu65USGFgsEA"
      },
      "source": [
        "# 特徵工程"
      ]
    },
    {
      "cell_type": "markdown",
      "metadata": {
        "id": "Ol84AIjCgvsk"
      },
      "source": [
        "## (一)刪除oulier"
      ]
    },
    {
      "cell_type": "code",
      "metadata": {
        "id": "wNwPLy6lg1Qj"
      },
      "source": [
        "#刪除oulier 有問題\n",
        "print ('shape of the before outlier:',train.shape)\n",
        "train = train[np.abs(train['count']-train['count'].mean())<=train['count'].std()*3]\n",
        "print('shape of the after outlier:',train.shape)\n",
        "train.describe()"
      ],
      "execution_count": null,
      "outputs": []
    },
    {
      "cell_type": "markdown",
      "metadata": {
        "id": "R8Bi2eMXg8A_"
      },
      "source": [
        "## (二)合併"
      ]
    },
    {
      "cell_type": "code",
      "metadata": {
        "id": "6L2i-oyBg_h7"
      },
      "source": [
        "#先把test&train和在一起最後再分開，才不用相同動作一直做\n",
        "data = train.append(test)\n",
        "data.reset_index(inplace=True)\n",
        "data.drop('index',axis=1)"
      ],
      "execution_count": null,
      "outputs": []
    },
    {
      "cell_type": "markdown",
      "metadata": {
        "id": "88zmGAkMhFDM"
      },
      "source": [
        "## (三)時間格式"
      ]
    },
    {
      "cell_type": "code",
      "metadata": {
        "id": "j0itaQT6hRpB"
      },
      "source": [
        "#model沒辦法吃時間的格式，所以資料要做點處理\n",
        "data['date'] = data['datetime'].apply(lambda x : x.split()[0])\n",
        "data['hour'] = data['datetime'].apply(lambda x : x.split()[1].split(':')[0]).astype(int)\n",
        "data['weekday']= data['date'].apply(lambda dataString : datetime.datetime.strptime(dataString,'%Y-%m-%d').weekday())\n",
        "data['year'] = data['datetime'].apply(lambda x : x.split()[0].split('-')[0]).astype(int)\n",
        "data['month'] = data['datetime'].apply(lambda x : x.split()[0].split('-')[1]).astype(int)"
      ],
      "execution_count": null,
      "outputs": []
    },
    {
      "cell_type": "markdown",
      "metadata": {
        "id": "XpuPUQNfhgM-"
      },
      "source": [
        "## (四)觀察資料"
      ]
    },
    {
      "cell_type": "code",
      "metadata": {
        "id": "PdPlcE-ChctB"
      },
      "source": [
        "fig,axes = plt.subplots(nrows=2,ncols=2)\n",
        "fig.set_size_inches(24,10)\n",
        "sns.distplot(data[\"temp\"],ax=axes[0][0])\n",
        "sns.distplot(data[\"atemp\"],ax=axes[0][1])\n",
        "sns.distplot(data[\"humidity\"],ax=axes[1][0])\n",
        "sns.distplot(data[\"windspeed\"],ax=axes[1][1])\n",
        "\n",
        "axes[0][0].set(xlabel='temp',title='distribution of temp')\n",
        "axes[0][1].set(xlabel='atemp',title='distribution of atemp')\n",
        "axes[0][1].set(xlabel='humidity',title='distribution of humidity')\n",
        "axes[0][1].set(xlabel='windspeed',title='distribution of windspeed')"
      ],
      "execution_count": null,
      "outputs": []
    },
    {
      "cell_type": "code",
      "metadata": {
        "id": "ILHnjporh1_j"
      },
      "source": [
        "#風速那部分會對資料預測造成嚴重得誤判，因此要把0的部分想辦法補值\n",
        "datawind0 = data[data['windspeed']==0]\n",
        "datawindnot0 = data[data['windspeed']!=0]\n",
        "rfmodel_wind = RandomForestRegressor(n_estimators=1000,random_state=42)\n",
        "windcolumn = ['season','weather','humidity','temp','atemp','year','month']\n",
        "rfmodel_wind.fit(datawindnot0[windcolumn],datawindnot0['windspeed'])\n",
        "\n",
        "wind0value = rfmodel_wind.predict(X=datawind0[windcolumn])\n"
      ],
      "execution_count": null,
      "outputs": []
    },
    {
      "cell_type": "code",
      "metadata": {
        "id": "6e76eTnnh8AE"
      },
      "source": [
        "datawind0.loc[:,'windspeed'] = wind0value\n",
        "data = datawindnot0.append(datawind0)\n",
        "data.reset_index(inplace=True)\n",
        "data.drop('index',axis=1,inplace=True)\n",
        "data.drop('level_0',axis=1)\n",
        "sns.distplot(data['windspeed'])"
      ],
      "execution_count": null,
      "outputs": []
    },
    {
      "cell_type": "markdown",
      "metadata": {
        "id": "DNDw6E4TiGlS"
      },
      "source": [
        "# 測試值訓練值"
      ]
    },
    {
      "cell_type": "code",
      "metadata": {
        "id": "cR4VcZ5fiK9X"
      },
      "source": [
        "dataTrain = data[pd.notnull(data['count'])].sort_values(by=['datetime'])\n",
        "dataTest = data[~pd.notnull(data['count'])].sort_values(by=['datetime'])"
      ],
      "execution_count": null,
      "outputs": []
    },
    {
      "cell_type": "code",
      "metadata": {
        "id": "w966gQ4WiTHB"
      },
      "source": [
        "#最後需要提交的檔案有時間資訊所以先提出\n",
        "look,axes = plt.subplots(nrows=2,ncols=1)\n",
        "look.set_size_inches(24,10)\n",
        "dataDatatime = dataTest['datetime']\n",
        "ylebel = dataTrain['count']\n",
        "ylebellog = np.log(ylebel)\n",
        "sns.distplot(ylebel,ax=axes[0])#太左偏\n",
        "sns.distplot(ylebellog,ax=axes[1])#希望符合常態分配"
      ],
      "execution_count": null,
      "outputs": []
    },
    {
      "cell_type": "code",
      "metadata": {
        "id": "XoL-y48xiVnm"
      },
      "source": [
        "#丟掉不要的欄位\n",
        "datadrop = ['casual','count','datetime','date','registered']\n",
        "dataTrain = dataTrain.drop(datadrop,axis=1)\n",
        "dataTest = dataTest.drop(datadrop,axis=1)\n",
        "dataTest"
      ],
      "execution_count": null,
      "outputs": []
    },
    {
      "cell_type": "code",
      "metadata": {
        "id": "UiAqo2K7iYql"
      },
      "source": [
        "#隨機森林模型建置\n",
        "rfmodel =RandomForestRegressor(n_estimators=1000,random_state=42)\n",
        "rfmodel.fit(dataTrain,ylebellog)\n",
        "submit = rfmodel.predict(X=dataTest)\n",
        "submit"
      ],
      "execution_count": null,
      "outputs": []
    },
    {
      "cell_type": "markdown",
      "metadata": {
        "id": "m4-5SiKniRHM"
      },
      "source": [
        "# 檔案提交"
      ]
    },
    {
      "cell_type": "code",
      "metadata": {
        "id": "mSFUoWVAij6s"
      },
      "source": [
        "#下載成比賽需要的檔案格式\n",
        "submission = pd.DataFrame({\n",
        "    'datetime':dataDatatime,\n",
        "    'count': [max(0,x) for x in np.exp(submit)]\n",
        "})\n",
        "\n",
        "submission.to_csv('bike_predictions_RF.CSV',index=None)"
      ],
      "execution_count": null,
      "outputs": []
    }
  ]
}